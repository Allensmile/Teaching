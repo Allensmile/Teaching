{
 "cells": [
  {
   "cell_type": "markdown",
   "metadata": {},
   "source": [
    "# Quick intro to Sympy\n",
    "\n",
    "Sympy is the symbolic python library. Basically, it provides all the functionality of Maple in a python environment. Its compatibility with Numpy makes it very attractive for simplifying some calculations."
   ]
  },
  {
   "cell_type": "code",
   "execution_count": 1,
   "metadata": {
    "collapsed": false
   },
   "outputs": [],
   "source": [
    "import sympy as sp\n",
    "sp.init_printing()  # generates nice formulas as output"
   ]
  },
  {
   "cell_type": "markdown",
   "metadata": {},
   "source": [
    "The key to working with Sympy is defining symbols as an object. These can be used to construct mathematical expressions. For example, to define a symbol $x$:"
   ]
  },
  {
   "cell_type": "code",
   "execution_count": 2,
   "metadata": {
    "collapsed": false
   },
   "outputs": [
    {
     "data": {
      "image/png": "[encoded data removed]",
      "text/latex": [
       "$$x^{2}$$"
      ],
      "text/plain": [
       " 2\n",
       "x "
      ]
     },
     "execution_count": 2,
     "metadata": {},
     "output_type": "execute_result"
    }
   ],
   "source": [
    "x = sp.Symbol(\"x\")\n",
    "x**2"
   ]
  },
  {
   "cell_type": "markdown",
   "metadata": {},
   "source": [
    "Or multiple symbols at once:"
   ]
  },
  {
   "cell_type": "code",
   "execution_count": 3,
   "metadata": {
    "collapsed": false
   },
   "outputs": [
    {
     "data": {
      "image/png": "[encoded data removed]",
      "text/latex": [
       "$$b x + \\left(a + x\\right)^{2} + 5$$"
      ],
      "text/plain": [
       "             2    \n",
       "b⋅x + (a + x)  + 5"
      ]
     },
     "execution_count": 3,
     "metadata": {},
     "output_type": "execute_result"
    }
   ],
   "source": [
    "a,b,n = sp.symbols(\"a,b,n\")\n",
    "f = (a + x)**2 + b*x + 5\n",
    "f"
   ]
  },
  {
   "cell_type": "markdown",
   "metadata": {},
   "source": [
    "The function solve can be used to find the solution of (nonlinear) equations."
   ]
  },
  {
   "cell_type": "code",
   "execution_count": 4,
   "metadata": {
    "collapsed": false
   },
   "outputs": [
    {
     "data": {
      "image/png": "[encoded data removed]",
      "text/latex": [
       "$$\\left [ - a - \\frac{b}{2} - \\frac{1}{2} \\sqrt{4 a b + b^{2} - 20}, \\quad - a - \\frac{b}{2} + \\frac{1}{2} \\sqrt{4 a b + b^{2} - 20}\\right ]$$"
      ],
      "text/plain": [
       "⎡            _________________              _________________⎤\n",
       "⎢           ╱          2                   ╱          2      ⎥\n",
       "⎢     b   ╲╱  4⋅a⋅b + b  - 20        b   ╲╱  4⋅a⋅b + b  - 20 ⎥\n",
       "⎢-a - ─ - ────────────────────, -a - ─ + ────────────────────⎥\n",
       "⎣     2            2                 2            2          ⎦"
      ]
     },
     "execution_count": 4,
     "metadata": {},
     "output_type": "execute_result"
    }
   ],
   "source": [
    "sp.solve(sp.Eq(f,0), x)  # solve for f = 0 "
   ]
  },
  {
   "cell_type": "markdown",
   "metadata": {},
   "source": [
    "Another useful function is simplify."
   ]
  },
  {
   "cell_type": "code",
   "execution_count": 5,
   "metadata": {
    "collapsed": false
   },
   "outputs": [
    {
     "data": {
      "image/png": "[encoded data removed]",
      "text/latex": [
       "$$\\sin^{2}{\\left (x \\right )} + \\cos^{2}{\\left (x \\right )}$$"
      ],
      "text/plain": [
       "   2         2   \n",
       "sin (x) + cos (x)"
      ]
     },
     "execution_count": 5,
     "metadata": {},
     "output_type": "execute_result"
    }
   ],
   "source": [
    "g = sp.sin(x)**2 + sp.cos(x)**2 \n",
    "g"
   ]
  },
  {
   "cell_type": "code",
   "execution_count": 6,
   "metadata": {
    "collapsed": false
   },
   "outputs": [
    {
     "data": {
      "image/png": "[encoded data removed]",
      "text/latex": [
       "$$1$$"
      ],
      "text/plain": [
       "1"
      ]
     },
     "execution_count": 6,
     "metadata": {},
     "output_type": "execute_result"
    }
   ],
   "source": [
    "g.simplify()"
   ]
  },
  {
   "cell_type": "markdown",
   "metadata": {},
   "source": [
    "Taking derivatives and integration is quite simple as well."
   ]
  },
  {
   "cell_type": "code",
   "execution_count": 7,
   "metadata": {
    "collapsed": false
   },
   "outputs": [
    {
     "data": {
      "image/png": "[encoded data removed]",
      "text/latex": [
       "$$\\frac{1}{\\left(x^{3} - 3\\right)^{3}} \\left(x^{4} + 15 x^{3} - 17 x\\right)$$"
      ],
      "text/plain": [
       " 4       3       \n",
       "x  + 15⋅x  - 17⋅x\n",
       "─────────────────\n",
       "            3    \n",
       "    ⎛ 3    ⎞     \n",
       "    ⎝x  - 3⎠     "
      ]
     },
     "execution_count": 7,
     "metadata": {},
     "output_type": "execute_result"
    }
   ],
   "source": [
    "h = (x**4 + 15*x**3 - 17*x)/(x**3-3)**3\n",
    "h"
   ]
  },
  {
   "cell_type": "code",
   "execution_count": 8,
   "metadata": {
    "collapsed": false
   },
   "outputs": [
    {
     "data": {
      "image/png": "[encoded data removed]",
      "text/latex": [
       "$$- \\frac{9 x^{2}}{\\left(x^{3} - 3\\right)^{4}} \\left(x^{4} + 15 x^{3} - 17 x\\right) + \\frac{1}{\\left(x^{3} - 3\\right)^{3}} \\left(4 x^{3} + 45 x^{2} - 17\\right)$$"
      ],
      "text/plain": [
       "     2 ⎛ 4       3       ⎞      3       2     \n",
       "  9⋅x ⋅⎝x  + 15⋅x  - 17⋅x⎠   4⋅x  + 45⋅x  - 17\n",
       "- ──────────────────────── + ─────────────────\n",
       "                 4                       3    \n",
       "         ⎛ 3    ⎞                ⎛ 3    ⎞     \n",
       "         ⎝x  - 3⎠                ⎝x  - 3⎠     "
      ]
     },
     "execution_count": 8,
     "metadata": {},
     "output_type": "execute_result"
    }
   ],
   "source": [
    "h.diff(x)"
   ]
  },
  {
   "cell_type": "markdown",
   "metadata": {},
   "source": [
    "Note that you can turn sympy expression in python functions:"
   ]
  },
  {
   "cell_type": "code",
   "execution_count": 9,
   "metadata": {
    "collapsed": false
   },
   "outputs": [
    {
     "data": {
      "image/png": "[encoded data removed]",
      "text/latex": [
       "$$-1.31155192578$$"
      ],
      "text/plain": [
       "-1.31155192578"
      ]
     },
     "execution_count": 9,
     "metadata": {},
     "output_type": "execute_result"
    }
   ],
   "source": [
    "dh_dx = sp.lambdify(x, h.diff(x))\n",
    "dh_dx(2.2)"
   ]
  },
  {
   "cell_type": "code",
   "execution_count": 10,
   "metadata": {
    "collapsed": false
   },
   "outputs": [
    {
     "data": {
      "image/png": "[encoded data removed]",
      "text/latex": [
       "$$x \\log{\\left (x \\right )} - x$$"
      ],
      "text/plain": [
       "x⋅log(x) - x"
      ]
     },
     "execution_count": 10,
     "metadata": {},
     "output_type": "execute_result"
    }
   ],
   "source": [
    "(sp.log(x)).integrate(x)"
   ]
  },
  {
   "cell_type": "markdown",
   "metadata": {},
   "source": [
    "or"
   ]
  },
  {
   "cell_type": "code",
   "execution_count": 11,
   "metadata": {
    "collapsed": false
   },
   "outputs": [
    {
     "data": {
      "image/png": "[encoded data removed]",
      "text/latex": [
       "$$\\log{\\left (2 \\right )}$$"
      ],
      "text/plain": [
       "log(2)"
      ]
     },
     "execution_count": 11,
     "metadata": {},
     "output_type": "execute_result"
    }
   ],
   "source": [
    "(1/x).integrate((x, 1, 2))  # integrate from 1 to 2"
   ]
  },
  {
   "cell_type": "code",
   "execution_count": 12,
   "metadata": {
    "collapsed": false
   },
   "outputs": [
    {
     "data": {
      "image/png": "[encoded data removed]",
      "text/latex": [
       "$$x^{10} - 1 = \\left(x - 1\\right) \\left(x + 1\\right) \\left(x^{4} - x^{3} + x^{2} - x + 1\\right) \\left(x^{4} + x^{3} + x^{2} + x + 1\\right)$$"
      ],
      "text/plain": [
       " 10                       ⎛ 4    3    2        ⎞ ⎛ 4    3    2        ⎞\n",
       "x   - 1 = (x - 1)⋅(x + 1)⋅⎝x  - x  + x  - x + 1⎠⋅⎝x  + x  + x  + x + 1⎠"
      ]
     },
     "metadata": {},
     "output_type": "display_data"
    }
   ],
   "source": [
    "from IPython.html.widgets import interact\n",
    "from IPython.display import display\n",
    "\n",
    "@interact\n",
    "def factorize(n=(1, 20, 1)):\n",
    "    expr = x**n - 1\n",
    "    display(sp.Eq(expr, sp.factor(expr)))"
   ]
  },
  {
   "cell_type": "markdown",
   "metadata": {
    "collapsed": false
   },
   "source": [
    "We can also symbolically solve certain differntial equations"
   ]
  },
  {
   "cell_type": "code",
   "execution_count": 13,
   "metadata": {
    "collapsed": false
   },
   "outputs": [
    {
     "data": {
      "image/png": "[encoded data removed]",
      "text/latex": [
       "$$\\frac{d}{d t} N{\\left (t \\right )} = r \\left(1 - \\frac{1}{K} N{\\left (t \\right )}\\right) N{\\left (t \\right )}$$"
      ],
      "text/plain": [
       "d            ⎛    N(t)⎞     \n",
       "──(N(t)) = r⋅⎜1 - ────⎟⋅N(t)\n",
       "dt           ⎝     K  ⎠     "
      ]
     },
     "execution_count": 13,
     "metadata": {},
     "output_type": "execute_result"
    }
   ],
   "source": [
    "N, t, r, K, N0 = sp.symbols(\"N, t, r, K, N_0\")\n",
    "\n",
    "Ndot = r * N(t) * (1 - N(t)/K)\n",
    "logistic = sp.Eq(N(t).diff(t), Ndot)\n",
    "logistic"
   ]
  },
  {
   "cell_type": "code",
   "execution_count": 14,
   "metadata": {
    "collapsed": false
   },
   "outputs": [
    {
     "data": {
      "image/png": "[encoded data removed]",
      "text/latex": [
       "$$N{\\left (t \\right )} = \\frac{K e^{C_{1} K + r t}}{e^{C_{1} K + r t} - 1}$$"
      ],
      "text/plain": [
       "           C₁⋅K + r⋅t \n",
       "        K⋅ℯ           \n",
       "N(t) = ───────────────\n",
       "        C₁⋅K + r⋅t    \n",
       "       ℯ           - 1"
      ]
     },
     "execution_count": 14,
     "metadata": {},
     "output_type": "execute_result"
    }
   ],
   "source": [
    "exact_solution = sp.dsolve(sp.powsimp(logistic), N(t))\n",
    "exact_solution"
   ]
  },
  {
   "cell_type": "markdown",
   "metadata": {
    "collapsed": false
   },
   "source": [
    "For numerical methods, Sympy can be of use for calculating the Hessian, for example"
   ]
  },
  {
   "cell_type": "code",
   "execution_count": 15,
   "metadata": {
    "collapsed": false
   },
   "outputs": [
    {
     "data": {
      "image/png": "[encoded data removed]",
      "text/latex": [
       "$$N{\\left (t \\right )} = \\frac{K N_{0} e^{r t}}{K + N_{0} e^{r t} - N_{0}}$$"
      ],
      "text/plain": [
       "                r⋅t    \n",
       "          K⋅N₀⋅ℯ       \n",
       "N(t) = ────────────────\n",
       "               r⋅t     \n",
       "       K + N₀⋅ℯ    - N₀"
      ]
     },
     "execution_count": 15,
     "metadata": {},
     "output_type": "execute_result"
    }
   ],
   "source": [
    "C_1 = exact_solution.atoms(sp.Symbol).difference(logistic.atoms(sp.Symbol)).pop()  # getting symbol for C1\n",
    "exact_solution_sv = exact_solution.subs(C_1, sp.solve(exact_solution.subs(N(t), N0), C_1).pop().subs(t,0)).simplify()\n",
    "exact_solution_sv"
   ]
  },
  {
   "cell_type": "markdown",
   "metadata": {},
   "source": [
    "Let's plot the exact solution versus a numerical approximation in scipy."
   ]
  },
  {
   "cell_type": "code",
   "execution_count": 16,
   "metadata": {
    "collapsed": false
   },
   "outputs": [
    {
     "data": {
      "image/png": "[encoded data removed]",
      "text/plain": [
       "<matplotlib.figure.Figure at 0x11277ba10>"
      ]
     },
     "metadata": {},
     "output_type": "display_data"
    }
   ],
   "source": [
    "import matplotlib.pyplot as plt\n",
    "import numpy as np\n",
    "from scipy.integrate import odeint\n",
    "%matplotlib inline\n",
    "\n",
    "def plot_exact(initial_pop, capacity, growth_rate):\n",
    "    exact = sp.lambdify(t, sp.solve(exact_solution_sv,N(t)).pop().subs(N0, initial_pop).subs(r, growth_rate).subs(K, capacity))\n",
    "    times = np.linspace(0, 100, 1000)\n",
    "    plt.plot(times, map(exact, times), label='exact')\n",
    "    numeric_values = odeint(sp.lambdify((N(t), t), Ndot.subs(N0, initial_pop).subs(r, growth_rate).subs(K, capacity)), initial_pop, times)\n",
    "    plt.plot(times, numeric_values, label='numeric')\n",
    "    plt.legend(loc=0)\n",
    "\n",
    "\n",
    "interact(plot_exact, initial_pop=(1, 100, 1), capacity=(10, 1000, 1), growth_rate=(-1, 2, 0.1))"
   ]
  },
  {
   "cell_type": "code",
   "execution_count": 17,
   "metadata": {
    "collapsed": false
   },
   "outputs": [
    {
     "data": {
      "image/png": "[encoded data removed]",
      "text/latex": [
       "$$\\left[\\begin{matrix}- \\frac{2 r}{K^{3}} N^{2}{\\left (t \\right )} & \\frac{1}{K^{2}} N^{2}{\\left (t \\right )}\\\\\\frac{1}{K^{2}} N^{2}{\\left (t \\right )} & 0\\end{matrix}\\right]$$"
      ],
      "text/plain": [
       "⎡      2       2   ⎤\n",
       "⎢-2⋅r⋅N (t)   N (t)⎥\n",
       "⎢───────────  ─────⎥\n",
       "⎢      3         2 ⎥\n",
       "⎢     K         K  ⎥\n",
       "⎢                  ⎥\n",
       "⎢    2             ⎥\n",
       "⎢   N (t)          ⎥\n",
       "⎢   ─────       0  ⎥\n",
       "⎢      2           ⎥\n",
       "⎣     K            ⎦"
      ]
     },
     "execution_count": 17,
     "metadata": {},
     "output_type": "execute_result"
    }
   ],
   "source": [
    "hessian = sp.Matrix(2, 2, [Ndot.diff(var1).diff(var2) for var1 in [K, r] for var2 in [K, r]])\n",
    "hessian"
   ]
  },
  {
   "cell_type": "markdown",
   "metadata": {
    "collapsed": false
   },
   "source": [
    "Luckily, we can convert this into LaTeX code to imbed in our thesis, papers or course notes ;-)"
   ]
  },
  {
   "cell_type": "code",
   "execution_count": 18,
   "metadata": {
    "collapsed": false
   },
   "outputs": [
    {
     "data": {
      "text/plain": [
       "'\\\\left[\\\\begin{matrix}- \\\\frac{2 r}{K^{3}} N^{2}{\\\\left (t \\\\right )} & \\\\frac{1}{K^{2}} N^{2}{\\\\left (t \\\\right )}\\\\\\\\\\\\frac{1}{K^{2}} N^{2}{\\\\left (t \\\\right )} & 0\\\\end{matrix}\\\\right]'"
      ]
     },
     "execution_count": 18,
     "metadata": {},
     "output_type": "execute_result"
    }
   ],
   "source": [
    "sp.latex(hessian)"
   ]
  }
 ],
 "metadata": {
  "kernelspec": {
   "display_name": "Python 2",
   "language": "python",
   "name": "python2"
  },
  "language_info": {
   "codemirror_mode": {
    "name": "ipython",
    "version": 2
   },
   "file_extension": ".py",
   "mimetype": "text/x-python",
   "name": "python",
   "nbconvert_exporter": "python",
   "pygments_lexer": "ipython2",
   "version": "2.7.6"
  }
 },
 "nbformat": 4,
 "nbformat_minor": 0
}
